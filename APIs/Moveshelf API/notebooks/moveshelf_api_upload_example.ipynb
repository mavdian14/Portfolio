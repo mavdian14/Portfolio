{
 "cells": [
  {
   "cell_type": "markdown",
   "id": "2ad65738",
   "metadata": {},
   "source": [
    "## Moveshelf API upload example\n",
    "This interactive notebook is intended to guide a user to upload data into Moveshelf using the API.\n",
    "\n",
    "The datastructure of Moveshelf is organized as follows:\n",
    "* Project: Projects are the highest level and associated to a single organization in Moveshelf. \n",
    "* Subjects: Each project contains a list of subjects. At project level, access to the Electronic Health Record (EHR) of a subject can be made. \n",
    "* Sessions: A session contains the relevant information for a specific measurement session and is typically defined by the date of the measurement. \n",
    "* Conditions: Conditions specify a group of trials that were performed within a session. \n",
    "* Trials: Trials, aka clips, are containers used to store our data. It consists of metadata and 'Additional Data', where the actual data of a trial is stored. \n",
    "\n",
    "Projects, Subjects and sessions are defined by their ID. When uploading data, a clip id is needed, which can be generated for new trial/clip, or obtained from the existing clips. Using this id, additional data can be uploaded using the provided upload url.\n",
    "\n",
    "For the data to be uploaded, the type needs to be specified. Within Moveshelf, we support the following data types (to be specified in the upload):\n",
    "* video: .mp4, .mov, .mpg, .avi\n",
    "* motion: .bvh, .fbx, .trc, .glb, .mox, c3d, xlsx\n",
    "* doc: .pdf\n",
    "* data: .csv, .json, .txt\n",
    "* img: .png, .jpg\n",
    "* camera: .xcp\n",
    "* raw: anything not specified above\n",
    "\n",
    "\n",
    "### Prerequisites\n",
    "* Basic Python understanding\n",
    "* A Moveshelf account with API key (the API key can be obtained from your account settings in Moveshelf. Make sure your API key ('mvshlf-api-key.json') is stored in the root folder of this project, or provide the path during setup of the API. \n",
    "* A local copy of Moveshelf Python API example Github repository (https://github.com/moveshelf/python-api-example)\n",
    "\n",
    "## Setup your environment\n",
    "\n",
    "### Import dependencies"
   ]
  },
  {
   "cell_type": "code",
   "execution_count": null,
   "id": "1aff9162",
   "metadata": {},
   "outputs": [],
   "source": [
    "import os, sys, json\n",
    "parentFolder = os.path.dirname(os.getcwd())\n",
    "sys.path.append(parentFolder)\n",
    "!pip install -r ../requirements.txt\n"
   ]
  },
  {
   "cell_type": "markdown",
   "id": "f9f57ec7",
   "metadata": {},
   "source": [
    "### Specify the details of your data to be uploaded and where it should go"
   ]
  },
  {
   "cell_type": "code",
   "execution_count": null,
   "id": "0d2f7ee6",
   "metadata": {},
   "outputs": [],
   "source": [
    "dataPath = r'<Path of folder where data is located>'  # e.g. r'C:\\Users\\testUser\\Data\\testTrial1'\n",
    "filesToUpload = ['<list of files to upload>']  # list of files to be uploaded\n",
    "dataType = '<data_type>'   # type of the data to be uploaded, see above for definition, e.g. 'data'\n",
    "\n",
    "myProject = '<user>/<projectName>' # e.g. support/demoProject\n",
    "mySubject = '<name>' # subject name, e.g. Subject1\n",
    "mySession = '<session_name(typical date)>' # session name, e.g. 2021-01-01\n",
    "myCondition = '<condition_name'   # condition name, e.g. 2-min walk\n",
    "myTrial = '<trial_name>'   # trial name, e.g. Trial-1"
   ]
  },
  {
   "cell_type": "markdown",
   "id": "29436573",
   "metadata": {},
   "source": [
    "### Import necessary packages"
   ]
  },
  {
   "cell_type": "code",
   "execution_count": null,
   "id": "2a54a894",
   "metadata": {},
   "outputs": [],
   "source": [
    "import IPython\n",
    "from api import MoveshelfApi, Metadata\n",
    "import util"
   ]
  },
  {
   "cell_type": "markdown",
   "id": "47bd70ce",
   "metadata": {},
   "source": [
    "### Setup the API "
   ]
  },
  {
   "cell_type": "code",
   "execution_count": null,
   "id": "3d59712c",
   "metadata": {},
   "outputs": [],
   "source": [
    "# Load the default configuration\n",
    "with open(os.path.join(parentFolder,'mvshlf-config.spec.json'), 'r') as configFile:\n",
    "    data = json.load(configFile)\n",
    "\n",
    "# And overwrite with personal configuration if available\n",
    "personalConfig = os.path.join(parentFolder,'mvshlf-config.json')\n",
    "if os.path.isfile(personalConfig):\n",
    "    with open(personalConfig, 'r') as configFile:\n",
    "        data.update(json.load(configFile))\n",
    "\n",
    "api = MoveshelfApi(api_key_file = os.path.join(parentFolder,data['apiKeyFileName']), api_url = data['apiUrl'])"
   ]
  },
  {
   "cell_type": "markdown",
   "id": "57854c8b",
   "metadata": {},
   "source": [
    "### Get available projects"
   ]
  },
  {
   "cell_type": "code",
   "execution_count": null,
   "id": "b55c91d8",
   "metadata": {},
   "outputs": [],
   "source": [
    "projects = api.getUserProjects()\n",
    "projectNames = [project['name'] for project in projects if len(projects) > 0]\n",
    "print('Available projects:')\n",
    "print(*projectNames, sep='\\n')\n"
   ]
  },
  {
   "cell_type": "markdown",
   "id": "4d647ad2",
   "metadata": {},
   "source": [
    "### Select the project"
   ]
  },
  {
   "cell_type": "code",
   "execution_count": null,
   "id": "6d3d5c46",
   "metadata": {},
   "outputs": [],
   "source": [
    "projectNames = [p['name'] for p in projects]\n",
    "iMyProject = projectNames.index(myProject)\n",
    "myProjectId = projects[iMyProject]['id']\n",
    "print('Project ID is: ' + myProjectId)\n"
   ]
  },
  {
   "cell_type": "markdown",
   "id": "86201392",
   "metadata": {},
   "source": [
    "### Find the subject"
   ]
  },
  {
   "cell_type": "code",
   "execution_count": null,
   "id": "a06e79e4",
   "metadata": {},
   "outputs": [],
   "source": [
    "subjects = api.getProjectSubjects(myProjectId)\n",
    "subjectNames = [s['name'] for s in subjects]\n",
    "\n",
    "if mySubject not in subjectNames:\n",
    "    # create Subject\n",
    "    subject = api.createSubject(myProject, mySubject)\n",
    "    mySubjectId = subject['id']\n",
    "else:\n",
    "    # get subject data\n",
    "    iMySubject = subjectNames.index(mySubject)\n",
    "    mySubjectId = subjects[iMySubject]['id']\n",
    "       \n",
    "# Extract subject details\n",
    "subjectDetails = api.getSubjectDetails(mySubjectId)\n",
    "subjectName = subjectDetails['name']\n",
    "\n",
    "print('Subject found, name is: ' + subjectName + ', subject ID is: ' + mySubjectId)"
   ]
  },
  {
   "cell_type": "markdown",
   "id": "3538303c",
   "metadata": {},
   "source": [
    "### Get session or create new"
   ]
  },
  {
   "cell_type": "code",
   "execution_count": null,
   "id": "9b7192b4",
   "metadata": {},
   "outputs": [],
   "source": [
    "sessions = subjectDetails['sessions']\n",
    "sessionExists = False\n",
    "for session in sessions:\n",
    "    try:\n",
    "        sessionName = session['projectPath'].split('/')[2]\n",
    "    except:\n",
    "        sessionName = \"\"\n",
    "    if sessionName == mySession:\n",
    "        sessionId = session['id']\n",
    "        sessionExists = True\n",
    "        print('Session found')\n",
    "        break\n",
    "\n",
    "if not sessionExists:\n",
    "    sessionPath = '/' + subjectName + '/' + mySession + '/'\n",
    "    session = api.createSession(myProject, sessionPath, mySubjectId)\n",
    "    sessionId = session['id']\n",
    "    print('Session created')\n",
    "\n",
    "session = api.getSessionById(sessionId)\n",
    "\n",
    "print('Session name is: ' + sessionName + ', session ID is: ' + sessionId)"
   ]
  },
  {
   "cell_type": "markdown",
   "id": "f54086a1",
   "metadata": {},
   "source": [
    "### Get condition name or add new"
   ]
  },
  {
   "cell_type": "code",
   "execution_count": null,
   "id": "7602fe26",
   "metadata": {},
   "outputs": [],
   "source": [
    "conditions = []\n",
    "conditions = util.getConditionsFromSession(session, conditions)\n",
    "\n",
    "condition = {}\n",
    "for c in conditions:\n",
    "    if (c['path'] == myCondition):\n",
    "        condition = c\n",
    "        break\n",
    "\n",
    "if (not condition):\n",
    "    condition['path'] = myCondition\n",
    "    condition['clips'] = []\n"
   ]
  },
  {
   "cell_type": "markdown",
   "id": "b12bd440",
   "metadata": {},
   "source": [
    "### Get clip id"
   ]
  },
  {
   "cell_type": "code",
   "execution_count": null,
   "id": "40064e6b",
   "metadata": {},
   "outputs": [],
   "source": [
    "clipId = util.addOrGetTrial(api, session, condition, myTrial)\n",
    "print('Clip id is: ' + clipId) "
   ]
  },
  {
   "cell_type": "code",
   "execution_count": null,
   "id": "1e3d0e0a",
   "metadata": {},
   "outputs": [],
   "source": [
    "existingAdditionalData = api.getAdditionalData(clipId)\n",
    "existingFileNames = [data['originalFileName'] for data in existingAdditionalData if len(existingAdditionalData) > 0]\n",
    "\n",
    "print('Existing data for clip: ')\n",
    "print(*existingFileNames, sep = \"\\n\")"
   ]
  },
  {
   "cell_type": "markdown",
   "id": "bdd54d5d",
   "metadata": {},
   "source": [
    "### Upload data\n"
   ]
  },
  {
   "cell_type": "code",
   "execution_count": null,
   "id": "cf90bf2b",
   "metadata": {},
   "outputs": [],
   "source": [
    "for fileName in filesToUpload:\n",
    "    filePath = os.path.join(dataPath, fileName)\n",
    "    \n",
    "    if fileName in existingFileNames:\n",
    "        print(fileName + ' was found in clip, will skip this data.')\n",
    "        continue\n",
    "\n",
    "    print('Uploading data for : ' + myCondition + ', ' + myTrial + ': ' + fileName)\n",
    "    \n",
    "    dataId = api.uploadAdditionalData(filePath, clipId, dataType, fileName)"
   ]
  }
 ],
 "metadata": {
  "kernelspec": {
   "display_name": "Python 3 (ipykernel)",
   "language": "python",
   "name": "python3"
  },
  "language_info": {
   "codemirror_mode": {
    "name": "ipython",
    "version": 3
   },
   "file_extension": ".py",
   "mimetype": "text/x-python",
   "name": "python",
   "nbconvert_exporter": "python",
   "pygments_lexer": "ipython3",
   "version": "3.9.7"
  }
 },
 "nbformat": 4,
 "nbformat_minor": 5
}
